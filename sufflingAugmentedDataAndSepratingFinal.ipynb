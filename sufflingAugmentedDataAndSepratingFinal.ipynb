{
 "cells": [
  {
   "cell_type": "code",
   "execution_count": 1,
   "metadata": {
    "collapsed": true
   },
   "outputs": [],
   "source": [
    "import pandas as pd\n",
    "import numpy as np\n"
   ]
  },
  {
   "cell_type": "code",
   "execution_count": 23,
   "metadata": {
    "collapsed": false
   },
   "outputs": [],
   "source": [
    "dataSet =  pd.read_csv(\"/home/rahul/project/facial-expression-work/datasets/train_augMent_v02.csv\")"
   ]
  },
  {
   "cell_type": "code",
   "execution_count": 4,
   "metadata": {
    "collapsed": false
   },
   "outputs": [
    {
     "data": {
      "text/plain": [
       "Index(['emotion', 'pixels'], dtype='object')"
      ]
     },
     "execution_count": 4,
     "metadata": {},
     "output_type": "execute_result"
    }
   ],
   "source": [
    "dataSet.columns"
   ]
  },
  {
   "cell_type": "code",
   "execution_count": 24,
   "metadata": {
    "collapsed": false
   },
   "outputs": [
    {
     "data": {
      "text/plain": [
       "3    21951\n",
       "6    14697\n",
       "4    14490\n",
       "2    11610\n",
       "0    11610\n",
       "5     8325\n",
       "1     1206\n",
       "Name: emotion, dtype: int64"
      ]
     },
     "execution_count": 24,
     "metadata": {},
     "output_type": "execute_result"
    }
   ],
   "source": [
    "dataSet['emotion'].value_counts()"
   ]
  },
  {
   "cell_type": "code",
   "execution_count": 1,
   "metadata": {
    "collapsed": false
   },
   "outputs": [
    {
     "data": {
      "text/plain": [
       "65806"
      ]
     },
     "execution_count": 1,
     "metadata": {},
     "output_type": "execute_result"
    }
   ],
   "source": [
    "17218+11528+11366+9108+9108+6530+948\n"
   ]
  },
  {
   "cell_type": "code",
   "execution_count": 37,
   "metadata": {
    "collapsed": false
   },
   "outputs": [],
   "source": [
    "emotion_0 = dataSet[dataSet['emotion']==0]\n",
    "emotion_1 = dataSet[dataSet['emotion']==1]\n",
    "emotion_2 = dataSet[dataSet['emotion']==2]\n",
    "emotion_3 = dataSet[dataSet['emotion']==3]\n",
    "emotion_4 = dataSet[dataSet['emotion']==4]\n",
    "emotion_5 = dataSet[dataSet['emotion']==5]\n",
    "emotion_6 = dataSet[dataSet['emotion']==6]"
   ]
  },
  {
   "cell_type": "code",
   "execution_count": 44,
   "metadata": {
    "collapsed": false
   },
   "outputs": [],
   "source": [
    "emotion_1 = pd.concat([emotion_1]*5,ignore_index=True)"
   ]
  },
  {
   "cell_type": "code",
   "execution_count": 45,
   "metadata": {
    "collapsed": false
   },
   "outputs": [],
   "source": [
    "emotion_1=emotion_1.sample(frac=1).reset_index(drop=True)"
   ]
  },
  {
   "cell_type": "code",
   "execution_count": 46,
   "metadata": {
    "collapsed": true
   },
   "outputs": [],
   "source": [
    "def takeRandom(df,fraction=0.3):\n",
    "    a = df.sample(frac=1).reset_index(drop=True)\n",
    "    length = int(a.shape[0]*fraction)\n",
    "    return a[:length], a[length+1:]"
   ]
  },
  {
   "cell_type": "code",
   "execution_count": 47,
   "metadata": {
    "collapsed": false
   },
   "outputs": [],
   "source": [
    "emotion_0_valid , emotion_0_train = takeRandom(emotion_0)\n",
    "emotion_1_valid , emotion_1_train = takeRandom(emotion_1)\n",
    "emotion_2_valid , emotion_2_train = takeRandom(emotion_2)\n",
    "emotion_3_valid , emotion_3_train = takeRandom(emotion_3)\n",
    "emotion_4_valid , emotion_4_train = takeRandom(emotion_4)\n",
    "emotion_5_valid , emotion_5_train = takeRandom(emotion_5)\n",
    "emotion_6_valid , emotion_6_train = takeRandom(emotion_6)"
   ]
  },
  {
   "cell_type": "code",
   "execution_count": 48,
   "metadata": {
    "collapsed": false
   },
   "outputs": [],
   "source": [
    "validDataset = pd.concat([emotion_0_valid,emotion_1_valid,emotion_2_valid,emotion_3_valid,emotion_4_valid,emotion_5_valid,emotion_6_valid])"
   ]
  },
  {
   "cell_type": "code",
   "execution_count": 49,
   "metadata": {
    "collapsed": true
   },
   "outputs": [],
   "source": [
    "trainDataset = pd.concat([emotion_0_train,emotion_1_train,emotion_2_train,emotion_3_train,emotion_4_train,emotion_5_train,emotion_6_train])"
   ]
  },
  {
   "cell_type": "code",
   "execution_count": 13,
   "metadata": {
    "collapsed": false
   },
   "outputs": [
    {
     "data": {
      "text/plain": [
       "Index(['emotion', 'pixels'], dtype='object')"
      ]
     },
     "execution_count": 13,
     "metadata": {},
     "output_type": "execute_result"
    }
   ],
   "source": [
    "validDataset.columns"
   ]
  },
  {
   "cell_type": "code",
   "execution_count": 50,
   "metadata": {
    "collapsed": true
   },
   "outputs": [],
   "source": [
    "validDataset.to_csv(\"/home/rahul/project/facial-expression-work/datasets/validDataset_aug1*5_v02.csv\",index=False)"
   ]
  },
  {
   "cell_type": "code",
   "execution_count": 51,
   "metadata": {
    "collapsed": false
   },
   "outputs": [],
   "source": [
    "trainDataset.to_csv(\"/home/rahul/project/facial-expression-work/datasets/trainDataSet_aug1*5_v02.csv\",index=False)"
   ]
  },
  {
   "cell_type": "code",
   "execution_count": 23,
   "metadata": {
    "collapsed": false
   },
   "outputs": [
    {
     "data": {
      "text/plain": [
       "5"
      ]
     },
     "execution_count": 23,
     "metadata": {},
     "output_type": "execute_result"
    }
   ],
   "source": [
    "trainDataset.shape[0]%16"
   ]
  },
  {
   "cell_type": "code",
   "execution_count": 14,
   "metadata": {
    "collapsed": false
   },
   "outputs": [
    {
     "data": {
      "text/plain": [
       "(22014, 2)"
      ]
     },
     "execution_count": 14,
     "metadata": {},
     "output_type": "execute_result"
    }
   ],
   "source": [
    "validDataset.shape"
   ]
  },
  {
   "cell_type": "code",
   "execution_count": 15,
   "metadata": {
    "collapsed": false
   },
   "outputs": [
    {
     "data": {
      "text/plain": [
       "(51369, 2)"
      ]
     },
     "execution_count": 15,
     "metadata": {},
     "output_type": "execute_result"
    }
   ],
   "source": [
    "trainDataset.shape"
   ]
  }
 ],
 "metadata": {
  "anaconda-cloud": {},
  "kernelspec": {
   "display_name": "Python [conda root]",
   "language": "python",
   "name": "conda-root-py"
  },
  "language_info": {
   "codemirror_mode": {
    "name": "ipython",
    "version": 3
   },
   "file_extension": ".py",
   "mimetype": "text/x-python",
   "name": "python",
   "nbconvert_exporter": "python",
   "pygments_lexer": "ipython3",
   "version": "3.5.2"
  }
 },
 "nbformat": 4,
 "nbformat_minor": 1
}
