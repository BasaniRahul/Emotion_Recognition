{
 "cells": [
  {
   "cell_type": "code",
   "execution_count": null,
   "metadata": {
    "collapsed": true
   },
   "outputs": [],
   "source": [
    "import csv\n",
    "import numpy as np\n",
    "\n",
    "\n",
    "pixel_depth = 255.0\n",
    "\n",
    "def load_csv(filename,force=False):\n",
    "    num = 0\n",
    "    data = np.ndarray(shape=(35887,48,48),dtype=np.float32)\n",
    "    labels = np.ndarray(shape=(35887,),dtype=np.float32)\n",
    "    with open(filename) as csvfile:\n",
    "        fer2013 = csv.reader(csvfile)\n",
    "        for row in fer2013:\n",
    "            if force == False:\n",
    "                force = True\n",
    "            else:\n",
    "                d = row[1].split(\" \")\n",
    "                l = row[0]\n",
    "                d = np.array(d,dtype=float).reshape((48,48))\n",
    "                l = np.array(l,dtype=float)\n",
    "                data[num,:,:] = d\n",
    "                labels[num,]= l\n",
    "                num = num + 1\n",
    "                \n",
    "    #normalized image dataset\n",
    "    data = data[0:num,:,:]/255.0\n",
    "    labels = labels[0:num,]\n",
    "    print('Full dataset tensor:', data.shape)\n",
    "    print('Label of dataset: ',labels.shape)\n",
    "    print('Mean:', np.mean(data))\n",
    "    print('Standard deviation:', np.std(data))\n",
    "    return data,labels    \n",
    "\n",
    "train_dataset,train_labels = load_csv(\"datasets/trainDataSet.csv\")\n",
    "test_dataset,test_labels = load_csv(\"datasets/testDataSet.csv\")\n",
    "valid_dataset,valid_labels = load_csv(\"datasets/validDataSet.csv\")"
   ]
  },
  {
   "cell_type": "code",
   "execution_count": null,
   "metadata": {
    "collapsed": true
   },
   "outputs": [],
   "source": [
    "image_size = 48\n",
    "num_labels = 7\n",
    "num_channels = 1 # grayscale\n",
    "\n",
    "import numpy as np\n",
    "\n",
    "def reformat(dataset, labels):\n",
    "    dataset = dataset.reshape(\n",
    "    (-1, image_size, image_size, num_channels)).astype(np.float32)\n",
    "    labels = (np.arange(num_labels) == labels[:,None]).astype(np.float32)\n",
    "    return dataset, labels\n",
    "train_dataset, train_labels = reformat(kaggle, kaggle_label)\n",
    "valid_dataset, valid_labels = reformat(valid_dataset, valid_labels)\n",
    "test_dataset, test_labels = reformat(test_dataset, test_labels)\n",
    "print('Training set', train_dataset.shape, train_labels.shape)\n",
    "print('Validation set', valid_dataset.shape, valid_labels.shape)\n",
    "print('Test set', test_dataset.shape, test_labels.shape)"
   ]
  }
 ],
 "metadata": {
  "anaconda-cloud": {},
  "kernelspec": {
   "display_name": "Python [conda root]",
   "language": "python",
   "name": "conda-root-py"
  },
  "language_info": {
   "codemirror_mode": {
    "name": "ipython",
    "version": 3
   },
   "file_extension": ".py",
   "mimetype": "text/x-python",
   "name": "python",
   "nbconvert_exporter": "python",
   "pygments_lexer": "ipython3",
   "version": "3.5.2"
  }
 },
 "nbformat": 4,
 "nbformat_minor": 2
}
