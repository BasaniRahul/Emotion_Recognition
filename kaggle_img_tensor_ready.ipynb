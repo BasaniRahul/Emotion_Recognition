{
 "cells": [
  {
   "cell_type": "code",
   "execution_count": null,
   "metadata": {
    "collapsed": true
   },
   "outputs": [],
   "source": []
  },
  {
   "cell_type": "code",
   "execution_count": 1,
   "metadata": {
    "collapsed": false
   },
   "outputs": [],
   "source": [
    "import csv\n",
    "import numpy as np\n",
    "import tensorflow as tf\n",
    "\n",
    "\n",
    "pixel_depth = 255.0\n",
    "\n",
    "def load_csv(filename,length,force=False):\n",
    "    num = 0\n",
    "    data = np.ndarray(shape=(length,48,48),dtype=np.float32)\n",
    "    labels = np.ndarray(shape=(length,),dtype=np.float32)\n",
    "    with open(filename) as csvfile:\n",
    "        fer2013 = csv.reader(csvfile)\n",
    "        for row in fer2013:\n",
    "            if force == False:\n",
    "                force = True\n",
    "            else:\n",
    "                d = row[1].split(\" \")\n",
    "                l = row[0]\n",
    "                d = np.array(d,dtype=float).reshape((48,48))\n",
    "                l = np.array(l,dtype=float)\n",
    "                data[num,:,:] = d\n",
    "                labels[num,]= l\n",
    "                num = num + 1\n",
    "                \n",
    "    #normalized image dataset\n",
    "    data = data[0:num,:,:]/255.0\n",
    "    labels = labels[0:num,]\n",
    "    print('Full dataset tensor:', data.shape)\n",
    "    print('Label of dataset: ',labels.shape)\n",
    "    print('Mean:', np.mean(data))\n",
    "    print('Standard deviation:', np.std(data))\n",
    "    return data,labels    \n",
    "\n"
   ]
  },
  {
   "cell_type": "code",
   "execution_count": 2,
   "metadata": {
    "collapsed": false
   },
   "outputs": [
    {
     "name": "stdout",
     "output_type": "stream",
     "text": [
      "Full dataset tensor: (10274, 48, 48)\n",
      "Label of dataset:  (10274,)\n",
      "Mean: 0.502654\n",
      "Standard deviation: 0.252731\n"
     ]
    }
   ],
   "source": [
    "train_dataset,train_labels = load_csv(\"trainSample_v01.csv\",10274)"
   ]
  },
  {
   "cell_type": "code",
   "execution_count": 5,
   "metadata": {
    "collapsed": false
   },
   "outputs": [
    {
     "name": "stdout",
     "output_type": "stream",
     "text": [
      "Full dataset tensor: (5918, 48, 48)\n",
      "Label of dataset:  (5918,)\n",
      "Mean: 0.502019\n",
      "Standard deviation: 0.255782\n"
     ]
    }
   ],
   "source": [
    "test_dataset,test_labels = load_csv(\"testSample_v01.csv\",5918)\n",
    "\n"
   ]
  },
  {
   "cell_type": "code",
   "execution_count": 6,
   "metadata": {
    "collapsed": false
   },
   "outputs": [
    {
     "name": "stdout",
     "output_type": "stream",
     "text": [
      "Full dataset tensor: (5504, 48, 48)\n",
      "Label of dataset:  (5504,)\n",
      "Mean: 0.505731\n",
      "Standard deviation: 0.253815\n"
     ]
    }
   ],
   "source": [
    "valid_dataset,valid_labels = load_csv(\"validSample_v01.csv\",5504)"
   ]
  },
  {
   "cell_type": "code",
   "execution_count": 7,
   "metadata": {
    "collapsed": false
   },
   "outputs": [
    {
     "name": "stdout",
     "output_type": "stream",
     "text": [
      "Training set (10274, 48, 48, 1) (10274, 7)\n",
      "Validation set (5504, 48, 48, 1) (5504, 7)\n",
      "Test set (5918, 48, 48, 1) (5918, 7)\n"
     ]
    }
   ],
   "source": [
    "image_size = 48\n",
    "num_labels = 7\n",
    "num_channels = 1 # grayscale\n",
    "\n",
    "import numpy as np\n",
    "\n",
    "def reformat(dataset, labels):\n",
    "    dataset = dataset.reshape(\n",
    "    (-1, image_size, image_size, num_channels)).astype(np.float32)\n",
    "    labels = (np.arange(num_labels) == labels[:,None]).astype(np.float32)\n",
    "    return dataset, labels\n",
    "train_dataset, train_labels = reformat(train_dataset, train_labels)\n",
    "valid_dataset, valid_labels = reformat(valid_dataset, valid_labels)\n",
    "test_dataset, test_labels = reformat(test_dataset, test_labels)\n",
    "print('Training set', train_dataset.shape, train_labels.shape)\n",
    "print('Validation set', valid_dataset.shape, valid_labels.shape)\n",
    "print('Test set', test_dataset.shape, test_labels.shape)"
   ]
  },
  {
   "cell_type": "code",
   "execution_count": 7,
   "metadata": {
    "collapsed": true
   },
   "outputs": [],
   "source": [
    "def accuracy(predictions, labels):\n",
    "    return (100.0 * np.sum(np.argmax(predictions, 1) == np.argmax(labels, 1))\n",
    "          / predictions.shape[0])"
   ]
  },
  {
   "cell_type": "code",
   "execution_count": null,
   "metadata": {
    "collapsed": true
   },
   "outputs": [],
   "source": [
    "#import tensorflow as tf"
   ]
  },
  {
   "cell_type": "code",
   "execution_count": 27,
   "metadata": {
    "collapsed": false
   },
   "outputs": [],
   "source": [
    "batch_size = 16\n",
    "patch_size = 5\n",
    "depth = 16\n",
    "num_hidden = 64\n",
    "\n",
    "graph = tf.Graph()\n",
    "\n",
    "with graph.as_default():\n",
    "\n",
    "  # Input data.\n",
    "    tf_train_dataset = tf.placeholder(\n",
    "    tf.float32, shape=(batch_size, image_size, image_size, num_channels))\n",
    "    tf_train_labels = tf.placeholder(tf.float32, shape=(batch_size, num_labels))\n",
    "    tf_valid_dataset = tf.constant(valid_dataset)\n",
    "    tf_test_dataset = tf.constant(test_dataset)\n",
    "  \n",
    "  # Variables.\n",
    "    layer1_weights = tf.Variable(tf.truncated_normal(\n",
    "      [patch_size, patch_size, num_channels, depth], stddev=0.1))\n",
    "    layer1_biases = tf.Variable(tf.zeros([depth]))\n",
    "    layer2_weights = tf.Variable(tf.truncated_normal(\n",
    "      [patch_size, patch_size, depth, depth], stddev=0.1))\n",
    "    layer2_biases = tf.Variable(tf.constant(1.0, shape=[depth]))\n",
    "    layer3_weights = tf.Variable(tf.truncated_normal(\n",
    "      [image_size // 4 * image_size // 4 * depth, num_hidden], stddev=0.1))\n",
    "    layer3_biases = tf.Variable(tf.constant(1.0, shape=[num_hidden]))\n",
    "    layer4_weights = tf.Variable(tf.truncated_normal(\n",
    "      [num_hidden, num_labels], stddev=0.1))\n",
    "    layer4_biases = tf.Variable(tf.constant(1.0, shape=[num_labels]))\n",
    "  \n",
    "  # Model.\n",
    "    def model(data):\n",
    "        conv = tf.nn.conv2d(data, layer1_weights, [1, 2, 2, 1], padding='SAME')\n",
    "        hidden = tf.nn.relu(conv + layer1_biases)\n",
    "        conv = tf.nn.conv2d(hidden, layer2_weights, [1, 2, 2, 1], padding='SAME')\n",
    "        hidden = tf.nn.relu(conv + layer2_biases)\n",
    "        shape = hidden.get_shape().as_list()\n",
    "        reshape = tf.reshape(hidden, [shape[0], shape[1] * shape[2] * shape[3]])\n",
    "        hidden = tf.nn.relu(tf.matmul(reshape, layer3_weights) + layer3_biases)\n",
    "        return tf.matmul(hidden, layer4_weights) + layer4_biases\n",
    "  \n",
    "  # Training computation.\n",
    "    logits = model(tf_train_dataset)\n",
    "    loss = tf.reduce_mean(\n",
    "          tf.nn.softmax_cross_entropy_with_logits(labels=tf_train_labels, logits=logits))\n",
    "    \n",
    "  # Optimizer.\n",
    "    optimizer = tf.train.GradientDescentOptimizer(0.05).minimize(loss)\n",
    "  \n",
    "  # Predictions for the training, validation, and test data.\n",
    "    train_prediction = tf.nn.softmax(logits)\n",
    "    valid_prediction = tf.nn.softmax(model(tf_valid_dataset))\n",
    "    test_prediction = tf.nn.softmax(model(tf_test_dataset))"
   ]
  },
  {
   "cell_type": "code",
   "execution_count": 28,
   "metadata": {
    "collapsed": false
   },
   "outputs": [
    {
     "name": "stdout",
     "output_type": "stream",
     "text": [
      "Initialized\n",
      "Minibatch loss at step 0: 3.461625\n",
      "Minibatch accuracy: 18.8%\n",
      "Validation accuracy: 16.9%\n",
      "Minibatch loss at step 50: 1.866313\n",
      "Minibatch accuracy: 31.2%\n",
      "Validation accuracy: 23.7%\n",
      "Minibatch loss at step 100: 1.823701\n",
      "Minibatch accuracy: 31.2%\n",
      "Validation accuracy: 16.8%\n",
      "Minibatch loss at step 150: 1.956679\n",
      "Minibatch accuracy: 37.5%\n",
      "Validation accuracy: 24.2%\n",
      "Minibatch loss at step 200: 1.776879\n",
      "Minibatch accuracy: 43.8%\n",
      "Validation accuracy: 23.8%\n",
      "Minibatch loss at step 250: 1.717361\n",
      "Minibatch accuracy: 31.2%\n",
      "Validation accuracy: 24.0%\n",
      "Minibatch loss at step 300: 1.886068\n",
      "Minibatch accuracy: 18.8%\n",
      "Validation accuracy: 24.6%\n",
      "Minibatch loss at step 350: 1.898278\n",
      "Minibatch accuracy: 25.0%\n",
      "Validation accuracy: 24.8%\n",
      "Minibatch loss at step 400: 1.845861\n",
      "Minibatch accuracy: 18.8%\n",
      "Validation accuracy: 24.3%\n",
      "Minibatch loss at step 450: 1.708178\n",
      "Minibatch accuracy: 37.5%\n",
      "Validation accuracy: 24.5%\n",
      "Minibatch loss at step 500: 1.891434\n",
      "Minibatch accuracy: 18.8%\n",
      "Validation accuracy: 24.9%\n",
      "Minibatch loss at step 550: 2.014170\n",
      "Minibatch accuracy: 12.5%\n",
      "Validation accuracy: 23.2%\n",
      "Minibatch loss at step 600: 1.858725\n",
      "Minibatch accuracy: 25.0%\n",
      "Validation accuracy: 23.1%\n",
      "Minibatch loss at step 650: 1.812490\n",
      "Minibatch accuracy: 31.2%\n",
      "Validation accuracy: 25.6%\n",
      "Minibatch loss at step 700: 1.875455\n",
      "Minibatch accuracy: 31.2%\n",
      "Validation accuracy: 25.4%\n",
      "Minibatch loss at step 750: 1.814244\n",
      "Minibatch accuracy: 31.2%\n",
      "Validation accuracy: 26.3%\n",
      "Minibatch loss at step 800: 1.798999\n",
      "Minibatch accuracy: 18.8%\n",
      "Validation accuracy: 25.8%\n",
      "Minibatch loss at step 850: 1.804099\n",
      "Minibatch accuracy: 25.0%\n",
      "Validation accuracy: 26.1%\n",
      "Minibatch loss at step 900: 1.817945\n",
      "Minibatch accuracy: 25.0%\n",
      "Validation accuracy: 25.7%\n",
      "Minibatch loss at step 950: 1.694691\n",
      "Minibatch accuracy: 37.5%\n",
      "Validation accuracy: 26.1%\n",
      "Test accuracy: 28.8%\n"
     ]
    }
   ],
   "source": [
    "num_steps = 1000\n",
    "with tf.Session(graph=graph) as session:\n",
    "    tf.global_variables_initializer().run()\n",
    "    print('Initialized')\n",
    "    for step in range(num_steps):\n",
    "        offset = (step * batch_size) % (train_labels.shape[0] - batch_size)\n",
    "        batch_data = train_dataset[offset:(offset + batch_size), :, :, :]\n",
    "        batch_labels = train_labels[offset:(offset + batch_size), :]\n",
    "        feed_dict = {tf_train_dataset : batch_data, tf_train_labels : batch_labels}\n",
    "        _, l, predictions = session.run(\n",
    "         [optimizer, loss, train_prediction], feed_dict=feed_dict)\n",
    "        if (step % 50 == 0):\n",
    "            print('Minibatch loss at step %d: %f' % (step, l))\n",
    "            print('Minibatch accuracy: %.1f%%' % accuracy(predictions, batch_labels))\n",
    "            print('Validation accuracy: %.1f%%' % accuracy(\n",
    "                  valid_prediction.eval(), valid_labels))\n",
    "    x = test_prediction.eval()\n",
    "    print('Test accuracy: %.1f%%' % accuracy(x, test_labels))"
   ]
  },
  {
   "cell_type": "code",
   "execution_count": 29,
   "metadata": {
    "collapsed": false
   },
   "outputs": [
    {
     "data": {
      "text/plain": [
       "numpy.ndarray"
      ]
     },
     "execution_count": 29,
     "metadata": {},
     "output_type": "execute_result"
    }
   ],
   "source": [
    "type(x)"
   ]
  },
  {
   "cell_type": "code",
   "execution_count": 32,
   "metadata": {
    "collapsed": false
   },
   "outputs": [
    {
     "data": {
      "text/plain": [
       "array([ 0.10190369,  0.04557588,  0.11921816,  0.23059921,  0.21533927,\n",
       "        0.09604168,  0.19132213], dtype=float32)"
      ]
     },
     "execution_count": 32,
     "metadata": {},
     "output_type": "execute_result"
    }
   ],
   "source": [
    "x[1]"
   ]
  },
  {
   "cell_type": "code",
   "execution_count": 8,
   "metadata": {
    "collapsed": false
   },
   "outputs": [],
   "source": [
    "#a = np.argmax(x,1)\n",
    "b = np.argmax(train_labels,1)"
   ]
  },
  {
   "cell_type": "code",
   "execution_count": 3,
   "metadata": {
    "collapsed": false
   },
   "outputs": [],
   "source": [
    "import pandas as pd"
   ]
  },
  {
   "cell_type": "code",
   "execution_count": 10,
   "metadata": {
    "collapsed": false
   },
   "outputs": [
    {
     "data": {
      "text/plain": [
       "array([2, 3, 6, ..., 2, 3, 5])"
      ]
     },
     "execution_count": 10,
     "metadata": {},
     "output_type": "execute_result"
    }
   ],
   "source": [
    "b"
   ]
  },
  {
   "cell_type": "code",
   "execution_count": 12,
   "metadata": {
    "collapsed": false
   },
   "outputs": [],
   "source": [
    "a_pd = pd.DataFrame({\"a\":a})"
   ]
  },
  {
   "cell_type": "code",
   "execution_count": 78,
   "metadata": {
    "collapsed": false
   },
   "outputs": [
    {
     "data": {
      "text/plain": [
       "Index(['a'], dtype='object')"
      ]
     },
     "execution_count": 78,
     "metadata": {},
     "output_type": "execute_result"
    }
   ],
   "source": [
    "a_pd.columns"
   ]
  },
  {
   "cell_type": "code",
   "execution_count": 80,
   "metadata": {
    "collapsed": false
   },
   "outputs": [],
   "source": [
    "_0=np.sum(a_pd['a']==0)\n",
    "_1=np.sum(a_pd['a']==1)\n",
    "_2=np.sum(a_pd['a']==2)\n",
    "_3=np.sum(a_pd['a']==3)\n",
    "_4=np.sum(a_pd['a']==4)\n",
    "_5=np.sum(a_pd['a']==5)\n",
    "_6=np.sum(a_pd['a']==6)"
   ]
  },
  {
   "cell_type": "code",
   "execution_count": 110,
   "metadata": {
    "collapsed": false
   },
   "outputs": [
    {
     "name": "stdout",
     "output_type": "stream",
     "text": [
      "215 573 82 3041 846 625 536\n"
     ]
    }
   ],
   "source": [
    "print(_0,_1,_2,_3,_4,_5,_6)"
   ]
  },
  {
   "cell_type": "code",
   "execution_count": 92,
   "metadata": {
    "collapsed": false
   },
   "outputs": [
    {
     "data": {
      "text/plain": [
       "5918"
      ]
     },
     "execution_count": 92,
     "metadata": {},
     "output_type": "execute_result"
    }
   ],
   "source": [
    "215+573+82+3041+846+625+536"
   ]
  },
  {
   "cell_type": "code",
   "execution_count": 13,
   "metadata": {
    "collapsed": false
   },
   "outputs": [],
   "source": [
    "a_pd['b'] = b"
   ]
  },
  {
   "cell_type": "code",
   "execution_count": 14,
   "metadata": {
    "collapsed": true
   },
   "outputs": [],
   "source": [
    "b_0=np.sum(a_pd['b']==0)\n",
    "b_1=np.sum(a_pd['b']==1)\n",
    "b_2=np.sum(a_pd['b']==2)\n",
    "b_3=np.sum(a_pd['b']==3)\n",
    "b_4=np.sum(a_pd['b']==4)\n",
    "b_5=np.sum(a_pd['b']==5)\n",
    "b_6=np.sum(a_pd['b']==6)"
   ]
  },
  {
   "cell_type": "code",
   "execution_count": 15,
   "metadata": {
    "collapsed": false
   },
   "outputs": [
    {
     "name": "stdout",
     "output_type": "stream",
     "text": [
      "1280 1204 1336 2331 1632 898 1593\n"
     ]
    }
   ],
   "source": [
    "print(b_0,b_1,b_2,b_3,b_4,b_5,b_6)"
   ]
  },
  {
   "cell_type": "code",
   "execution_count": 84,
   "metadata": {
    "collapsed": false
   },
   "outputs": [],
   "source": [
    "ind_0a =(a_pd['a']==0)\n",
    "ind_1a =(a_pd['a']==1)\n",
    "ind_2a =(a_pd['a']==2)\n",
    "ind_3a =(a_pd['a']==3)\n",
    "ind_4a =(a_pd['a']==4)\n",
    "ind_5a =(a_pd['a']==5)\n",
    "ind_6a =(a_pd['a']==6)"
   ]
  },
  {
   "cell_type": "code",
   "execution_count": 85,
   "metadata": {
    "collapsed": false
   },
   "outputs": [],
   "source": [
    "ind_0b =(a_pd['b']==0)\n",
    "ind_1b =(a_pd['b']==1)\n",
    "ind_2b =(a_pd['b']==2)\n",
    "ind_3b =(a_pd['b']==3)\n",
    "ind_4b =(a_pd['b']==4)\n",
    "ind_5b =(a_pd['b']==5)\n",
    "ind_6b =(a_pd['b']==6)"
   ]
  },
  {
   "cell_type": "code",
   "execution_count": 87,
   "metadata": {
    "collapsed": false
   },
   "outputs": [],
   "source": [
    "acc_0 = np.sum(ind_0a==ind_0b)\n",
    "acc_1 = np.sum(ind_1a==ind_1b)\n",
    "acc_2 = np.sum(ind_2a==ind_2b)\n",
    "acc_3 = np.sum(ind_3a==ind_3b)\n",
    "acc_4 = np.sum(ind_4a==ind_4b)\n",
    "acc_5 = np.sum(ind_5a==ind_5b)\n",
    "acc_6 = np.sum(ind_6a==ind_6b)"
   ]
  },
  {
   "cell_type": "code",
   "execution_count": 88,
   "metadata": {
    "collapsed": false
   },
   "outputs": [
    {
     "name": "stdout",
     "output_type": "stream",
     "text": [
      "4948 5317 5066 3382 4545 5102 4644\n"
     ]
    }
   ],
   "source": [
    "#print(acc_0,acc_1,acc_2,acc_3,acc_4,acc_5,acc_6)"
   ]
  },
  {
   "cell_type": "code",
   "execution_count": 97,
   "metadata": {
    "collapsed": false
   },
   "outputs": [
    {
     "data": {
      "text/plain": [
       "5918"
      ]
     },
     "execution_count": 97,
     "metadata": {},
     "output_type": "execute_result"
    }
   ],
   "source": [
    "len(ind_0a)"
   ]
  },
  {
   "cell_type": "code",
   "execution_count": 104,
   "metadata": {
    "collapsed": false
   },
   "outputs": [],
   "source": [
    "def accu(a,b):\n",
    "    sum = 0\n",
    "    for i in range(len(a)):\n",
    "        if a[i]:\n",
    "            if a[i]==b[i]:\n",
    "                sum+=1\n",
    "    return sum"
   ]
  },
  {
   "cell_type": "code",
   "execution_count": 105,
   "metadata": {
    "collapsed": false
   },
   "outputs": [],
   "source": [
    "acc_0 = accu(ind_0a,ind_1b)\n",
    "acc_1 = accu(ind_1a,ind_1b)\n",
    "acc_2 = accu(ind_2a,ind_2b)\n",
    "acc_3 = accu(ind_3a,ind_3b)\n",
    "acc_4 = accu(ind_4a,ind_4b)\n",
    "acc_5 = accu(ind_5a,ind_5b)\n",
    "acc_6 = accu(ind_6a,ind_6b)"
   ]
  },
  {
   "cell_type": "code",
   "execution_count": 112,
   "metadata": {
    "collapsed": false
   },
   "outputs": [
    {
     "name": "stdout",
     "output_type": "stream",
     "text": [
      "categories          (0=An, 1=Dis, 2=Fe, 3=Ha, 4=Sa, 5=Sup, 6=Neutral).\n",
      " actual labels count   833 86 824 1541 1037 563 1034\n",
      "predicted labels count 215 573 82 3041 846 625 536\n",
      "accuracy               2 29 27 1023 255 186 148\n"
     ]
    }
   ],
   "source": [
    "print(\"categories          (0=An, 1=Dis, 2=Fe, 3=Ha, 4=Sa, 5=Sup, 6=Neutral).\")\n",
    "print(\" actual labels count  \",b_0,b_1,b_2,b_3,b_4,b_5,b_6)\n",
    "print(\"predicted labels count\",_0,_1,_2,_3,_4,_5,_6)\n",
    "print(\"accuracy              \",acc_0,acc_1,acc_2,acc_3,acc_4,acc_5,acc_6)\n"
   ]
  },
  {
   "cell_type": "code",
   "execution_count": 1,
   "metadata": {
    "collapsed": false
   },
   "outputs": [
    {
     "data": {
      "text/plain": [
       "5918"
      ]
     },
     "execution_count": 1,
     "metadata": {},
     "output_type": "execute_result"
    }
   ],
   "source": [
    "833+86+824+1541+1037+563+1034"
   ]
  },
  {
   "cell_type": "code",
   "execution_count": 2,
   "metadata": {
    "collapsed": false
   },
   "outputs": [
    {
     "data": {
      "text/plain": [
       "5918"
      ]
     },
     "execution_count": 2,
     "metadata": {},
     "output_type": "execute_result"
    }
   ],
   "source": [
    "215+573+82+3041+846+625+536"
   ]
  },
  {
   "cell_type": "code",
   "execution_count": 39,
   "metadata": {
    "collapsed": true
   },
   "outputs": [],
   "source": [
    "x = (a==b)"
   ]
  },
  {
   "cell_type": "code",
   "execution_count": 40,
   "metadata": {
    "collapsed": false
   },
   "outputs": [
    {
     "data": {
      "text/plain": [
       "array([False, False,  True, ..., False, False,  True], dtype=bool)"
      ]
     },
     "execution_count": 40,
     "metadata": {},
     "output_type": "execute_result"
    }
   ],
   "source": [
    "x"
   ]
  },
  {
   "cell_type": "code",
   "execution_count": 98,
   "metadata": {
    "collapsed": false
   },
   "outputs": [
    {
     "data": {
      "text/plain": [
       "2"
      ]
     },
     "execution_count": 98,
     "metadata": {},
     "output_type": "execute_result"
    }
   ],
   "source": [
    "a=1\n",
    "a+=1\n",
    "a"
   ]
  },
  {
   "cell_type": "code",
   "execution_count": 9,
   "metadata": {
    "collapsed": false
   },
   "outputs": [
    {
     "data": {
      "text/plain": [
       "array([ 2.,  3.,  6., ...,  2.,  3.,  5.], dtype=float32)"
      ]
     },
     "execution_count": 9,
     "metadata": {},
     "output_type": "execute_result"
    }
   ],
   "source": [
    "train_labels"
   ]
  },
  {
   "cell_type": "code",
   "execution_count": 6,
   "metadata": {
    "collapsed": false
   },
   "outputs": [],
   "source": [
    "trainLablePD = pd.DataFrame()"
   ]
  },
  {
   "cell_type": "code",
   "execution_count": 7,
   "metadata": {
    "collapsed": true
   },
   "outputs": [],
   "source": [
    "trainLablePD['trainLable'] = train_labels"
   ]
  },
  {
   "cell_type": "code",
   "execution_count": 8,
   "metadata": {
    "collapsed": false
   },
   "outputs": [
    {
     "data": {
      "text/plain": [
       "<bound method IndexOpsMixin.value_counts of 0        2.0\n",
       "1        3.0\n",
       "2        6.0\n",
       "3        2.0\n",
       "4        4.0\n",
       "5        6.0\n",
       "6        0.0\n",
       "7        6.0\n",
       "8        4.0\n",
       "9        3.0\n",
       "10       6.0\n",
       "11       0.0\n",
       "12       1.0\n",
       "13       2.0\n",
       "14       0.0\n",
       "15       6.0\n",
       "16       3.0\n",
       "17       6.0\n",
       "18       1.0\n",
       "19       5.0\n",
       "20       6.0\n",
       "21       3.0\n",
       "22       3.0\n",
       "23       4.0\n",
       "24       0.0\n",
       "25       4.0\n",
       "26       3.0\n",
       "27       4.0\n",
       "28       3.0\n",
       "29       2.0\n",
       "        ... \n",
       "10244    6.0\n",
       "10245    6.0\n",
       "10246    2.0\n",
       "10247    3.0\n",
       "10248    3.0\n",
       "10249    6.0\n",
       "10250    4.0\n",
       "10251    2.0\n",
       "10252    2.0\n",
       "10253    6.0\n",
       "10254    1.0\n",
       "10255    6.0\n",
       "10256    1.0\n",
       "10257    1.0\n",
       "10258    3.0\n",
       "10259    2.0\n",
       "10260    6.0\n",
       "10261    0.0\n",
       "10262    2.0\n",
       "10263    6.0\n",
       "10264    3.0\n",
       "10265    0.0\n",
       "10266    4.0\n",
       "10267    4.0\n",
       "10268    2.0\n",
       "10269    1.0\n",
       "10270    4.0\n",
       "10271    2.0\n",
       "10272    3.0\n",
       "10273    5.0\n",
       "Name: trainLable, dtype: float32>"
      ]
     },
     "execution_count": 8,
     "metadata": {},
     "output_type": "execute_result"
    }
   ],
   "source": [
    "trainLablePD['trainLable'].value_counts"
   ]
  },
  {
   "cell_type": "code",
   "execution_count": null,
   "metadata": {
    "collapsed": true
   },
   "outputs": [],
   "source": []
  },
  {
   "cell_type": "code",
   "execution_count": null,
   "metadata": {
    "collapsed": true
   },
   "outputs": [],
   "source": []
  },
  {
   "cell_type": "code",
   "execution_count": 21,
   "metadata": {
    "collapsed": false
   },
   "outputs": [],
   "source": []
  },
  {
   "cell_type": "code",
   "execution_count": 27,
   "metadata": {
    "collapsed": false
   },
   "outputs": [
    {
     "data": {
      "text/plain": [
       "array([[    0,     1,     2, ...,    97,    98,    99],\n",
       "       [  100,   101,   102, ...,   197,   198,   199],\n",
       "       [  200,   201,   202, ...,   297,   298,   299],\n",
       "       ..., \n",
       "       [99700, 99701, 99702, ..., 99797, 99798, 99799],\n",
       "       [99800, 99801, 99802, ..., 99897, 99898, 99899],\n",
       "       [99900, 99901, 99902, ..., 99997, 99998, 99999]])"
      ]
     },
     "execution_count": 27,
     "metadata": {},
     "output_type": "execute_result"
    }
   ],
   "source": [
    "a.reshape(-1,100)"
   ]
  },
  {
   "cell_type": "code",
   "execution_count": 22,
   "metadata": {
    "collapsed": false
   },
   "outputs": [
    {
     "data": {
      "text/plain": [
       "array([    0,     1,     2, ..., 99997, 99998, 99999])"
      ]
     },
     "execution_count": 22,
     "metadata": {},
     "output_type": "execute_result"
    }
   ],
   "source": [
    "a\n"
   ]
  },
  {
   "cell_type": "code",
   "execution_count": null,
   "metadata": {
    "collapsed": true
   },
   "outputs": [],
   "source": []
  }
 ],
 "metadata": {
  "anaconda-cloud": {},
  "kernelspec": {
   "display_name": "Python [conda root]",
   "language": "python",
   "name": "conda-root-py"
  },
  "language_info": {
   "codemirror_mode": {
    "name": "ipython",
    "version": 3
   },
   "file_extension": ".py",
   "mimetype": "text/x-python",
   "name": "python",
   "nbconvert_exporter": "python",
   "pygments_lexer": "ipython3",
   "version": "3.5.2"
  }
 },
 "nbformat": 4,
 "nbformat_minor": 2
}
