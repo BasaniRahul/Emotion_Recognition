{
 "cells": [
  {
   "cell_type": "code",
   "execution_count": 1,
   "metadata": {
    "collapsed": true
   },
   "outputs": [],
   "source": [
    "import pandas as pd\n",
    "import numpy as np\n"
   ]
  },
  {
   "cell_type": "code",
   "execution_count": 2,
   "metadata": {
    "collapsed": false
   },
   "outputs": [],
   "source": [
    "dataSet = pd.read_csv(\"/home/rahul/project/facial-expression-work/datasets/fer2013_final.csv\")"
   ]
  },
  {
   "cell_type": "code",
   "execution_count": 3,
   "metadata": {
    "collapsed": false
   },
   "outputs": [
    {
     "data": {
      "text/plain": [
       "Index(['emotion', 'pixels', 'Usage'], dtype='object')"
      ]
     },
     "execution_count": 3,
     "metadata": {},
     "output_type": "execute_result"
    }
   ],
   "source": [
    "dataSet.columns"
   ]
  },
  {
   "cell_type": "code",
   "execution_count": 6,
   "metadata": {
    "collapsed": false
   },
   "outputs": [
    {
     "data": {
      "text/plain": [
       "3    8609\n",
       "6    5764\n",
       "4    5683\n",
       "2    4554\n",
       "0    4554\n",
       "5    3265\n",
       "Name: emotion, dtype: int64"
      ]
     },
     "execution_count": 6,
     "metadata": {},
     "output_type": "execute_result"
    }
   ],
   "source": [
    "dataSet['emotion'].value_counts()"
   ]
  },
  {
   "cell_type": "code",
   "execution_count": 9,
   "metadata": {
    "collapsed": false
   },
   "outputs": [
    {
     "data": {
      "text/plain": [
       "(32903, 3)"
      ]
     },
     "execution_count": 9,
     "metadata": {},
     "output_type": "execute_result"
    }
   ],
   "source": [
    "dataSet.shape"
   ]
  },
  {
   "cell_type": "code",
   "execution_count": 21,
   "metadata": {
    "collapsed": false
   },
   "outputs": [
    {
     "data": {
      "text/plain": [
       "4935.45"
      ]
     },
     "execution_count": 21,
     "metadata": {},
     "output_type": "execute_result"
    }
   ],
   "source": [
    "32903*.15\n"
   ]
  },
  {
   "cell_type": "code",
   "execution_count": 10,
   "metadata": {
    "collapsed": false
   },
   "outputs": [],
   "source": [
    "emotion_0 = dataSet[dataSet['emotion']==0]\n",
    "emotion_1 = dataSet[dataSet['emotion']==1]\n",
    "emotion_2 = dataSet[dataSet['emotion']==2]\n",
    "emotion_3 = dataSet[dataSet['emotion']==3]\n",
    "emotion_4 = dataSet[dataSet['emotion']==4]\n",
    "emotion_5 = dataSet[dataSet['emotion']==5]\n",
    "emotion_6 = dataSet[dataSet['emotion']==6]"
   ]
  },
  {
   "cell_type": "code",
   "execution_count": 11,
   "metadata": {
    "collapsed": true
   },
   "outputs": [],
   "source": [
    "del dataSet"
   ]
  },
  {
   "cell_type": "code",
   "execution_count": 12,
   "metadata": {
    "collapsed": false
   },
   "outputs": [
    {
     "name": "stdout",
     "output_type": "stream",
     "text": [
      "0 (4554, 3)\n",
      "1 (474, 3)\n",
      "2 (4554, 3)\n",
      "3 (8609, 3)\n",
      "4 (5683, 3)\n",
      "5 (3265, 3)\n",
      "6 5764\n"
     ]
    }
   ],
   "source": [
    "print(\"0\",emotion_0.shape)\n",
    "print(\"1\",emotion_1.shape)\n",
    "print(\"2\",emotion_2.shape)\n",
    "print(\"3\",emotion_3.shape)\n",
    "print(\"4\",emotion_4.shape)\n",
    "print(\"5\",emotion_5.shape)\n",
    "print(\"6\",emotion_6.shape[0])"
   ]
  },
  {
   "cell_type": "code",
   "execution_count": 17,
   "metadata": {
    "collapsed": true
   },
   "outputs": [],
   "source": [
    "def takeRandom(df,fraction=0.15):\n",
    "    a = df.sample(frac=1).reset_index(drop=True)\n",
    "    length = int(a.shape[0]*fraction)\n",
    "    return a[:length], a[length+1:]"
   ]
  },
  {
   "cell_type": "code",
   "execution_count": 18,
   "metadata": {
    "collapsed": true
   },
   "outputs": [],
   "source": [
    "emotion_0_test , emotion_0_train = takeRandom(emotion_0)\n",
    "emotion_1_test , emotion_1_train = takeRandom(emotion_1)\n",
    "emotion_2_test , emotion_2_train = takeRandom(emotion_2)\n",
    "emotion_3_test , emotion_3_train = takeRandom(emotion_3)\n",
    "emotion_4_test , emotion_4_train = takeRandom(emotion_4)\n",
    "emotion_5_test , emotion_5_train = takeRandom(emotion_5)\n",
    "emotion_6_test , emotion_6_train = takeRandom(emotion_6)"
   ]
  },
  {
   "cell_type": "code",
   "execution_count": 12,
   "metadata": {
    "collapsed": false
   },
   "outputs": [
    {
     "data": {
      "text/plain": [
       "(94, 3)"
      ]
     },
     "execution_count": 12,
     "metadata": {},
     "output_type": "execute_result"
    }
   ],
   "source": [
    "#emotion_1_test.shape"
   ]
  },
  {
   "cell_type": "code",
   "execution_count": 19,
   "metadata": {
    "collapsed": true
   },
   "outputs": [],
   "source": [
    "testDataSet = pd.concat([emotion_0_test,emotion_1_test,emotion_2_test,emotion_3_test,emotion_4_test,emotion_5_test,emotion_6_test])"
   ]
  },
  {
   "cell_type": "code",
   "execution_count": 22,
   "metadata": {
    "collapsed": false
   },
   "outputs": [
    {
     "data": {
      "text/plain": [
       "3    1291\n",
       "6     864\n",
       "4     852\n",
       "2     683\n",
       "0     683\n",
       "5     489\n",
       "1      71\n",
       "Name: emotion, dtype: int64"
      ]
     },
     "execution_count": 22,
     "metadata": {},
     "output_type": "execute_result"
    }
   ],
   "source": [
    "testDataSet['emotion'].value_counts()"
   ]
  },
  {
   "cell_type": "code",
   "execution_count": 23,
   "metadata": {
    "collapsed": true
   },
   "outputs": [],
   "source": [
    "trainDataSet = pd.concat([emotion_0_train,emotion_1_train,emotion_2_train,emotion_3_train,emotion_4_train,emotion_5_train,emotion_6_train])"
   ]
  },
  {
   "cell_type": "code",
   "execution_count": 24,
   "metadata": {
    "collapsed": false
   },
   "outputs": [
    {
     "data": {
      "text/plain": [
       "3    7317\n",
       "6    4899\n",
       "4    4830\n",
       "2    3870\n",
       "0    3870\n",
       "5    2775\n",
       "1     402\n",
       "Name: emotion, dtype: int64"
      ]
     },
     "execution_count": 24,
     "metadata": {},
     "output_type": "execute_result"
    }
   ],
   "source": [
    "trainDataSet['emotion'].value_counts()"
   ]
  },
  {
   "cell_type": "code",
   "execution_count": 35,
   "metadata": {
    "collapsed": false
   },
   "outputs": [],
   "source": [
    "#print(trainDataSet['emotion'].shape)\n",
    "#trainDataSet['emotion'].value_counts()\n"
   ]
  },
  {
   "cell_type": "code",
   "execution_count": 25,
   "metadata": {
    "collapsed": false
   },
   "outputs": [
    {
     "name": "stdout",
     "output_type": "stream",
     "text": [
      "(4933, 3)\n"
     ]
    },
    {
     "data": {
      "text/plain": [
       "3    1291\n",
       "6     864\n",
       "4     852\n",
       "2     683\n",
       "0     683\n",
       "5     489\n",
       "1      71\n",
       "Name: emotion, dtype: int64"
      ]
     },
     "execution_count": 25,
     "metadata": {},
     "output_type": "execute_result"
    }
   ],
   "source": [
    "print(testDataSet.shape)\n",
    "testDataSet['emotion'].value_counts()"
   ]
  },
  {
   "cell_type": "code",
   "execution_count": 26,
   "metadata": {
    "collapsed": true
   },
   "outputs": [],
   "source": [
    "def shuffleDataset(dataSet):\n",
    "    return dataSet.sample(frac=1).reset_index(drop=True)"
   ]
  },
  {
   "cell_type": "code",
   "execution_count": 27,
   "metadata": {
    "collapsed": false
   },
   "outputs": [],
   "source": [
    "testDataSet = shuffleDataset(testDataSet)\n",
    "trainDataSet = shuffleDataset(trainDataSet)"
   ]
  },
  {
   "cell_type": "code",
   "execution_count": 30,
   "metadata": {
    "collapsed": false
   },
   "outputs": [],
   "source": [
    "del testDataSet['Usage']"
   ]
  },
  {
   "cell_type": "code",
   "execution_count": 31,
   "metadata": {
    "collapsed": true
   },
   "outputs": [],
   "source": [
    "del trainDataSet['Usage']"
   ]
  },
  {
   "cell_type": "code",
   "execution_count": 19,
   "metadata": {
    "collapsed": false
   },
   "outputs": [
    {
     "data": {
      "text/plain": [
       "Training       5308\n",
       "PrivateTest     641\n",
       "PublicTest      627\n",
       "Name: Usage, dtype: int64"
      ]
     },
     "execution_count": 19,
     "metadata": {},
     "output_type": "execute_result"
    }
   ],
   "source": [
    "testDataSet['Usage'].value_counts()"
   ]
  },
  {
   "cell_type": "code",
   "execution_count": 32,
   "metadata": {
    "collapsed": true
   },
   "outputs": [],
   "source": [
    "testDataSet.to_csv('/home/rahul/project/facial-expression-work/datasets/testDataSet_v01.csv',index=False)"
   ]
  },
  {
   "cell_type": "code",
   "execution_count": 33,
   "metadata": {
    "collapsed": true
   },
   "outputs": [],
   "source": [
    "trainDataSet.to_csv('/home/rahul/project/facial-expression-work/datasets/trainDataSet_v01.csv',index = False)"
   ]
  },
  {
   "cell_type": "code",
   "execution_count": null,
   "metadata": {
    "collapsed": true
   },
   "outputs": [],
   "source": []
  },
  {
   "cell_type": "code",
   "execution_count": 21,
   "metadata": {
    "collapsed": true
   },
   "outputs": [],
   "source": [
    "a=1"
   ]
  },
  {
   "cell_type": "code",
   "execution_count": null,
   "metadata": {
    "collapsed": true
   },
   "outputs": [],
   "source": []
  }
 ],
 "metadata": {
  "anaconda-cloud": {},
  "kernelspec": {
   "display_name": "Python [conda root]",
   "language": "python",
   "name": "conda-root-py"
  },
  "language_info": {
   "codemirror_mode": {
    "name": "ipython",
    "version": 3
   },
   "file_extension": ".py",
   "mimetype": "text/x-python",
   "name": "python",
   "nbconvert_exporter": "python",
   "pygments_lexer": "ipython3",
   "version": "3.5.2"
  }
 },
 "nbformat": 4,
 "nbformat_minor": 1
}
